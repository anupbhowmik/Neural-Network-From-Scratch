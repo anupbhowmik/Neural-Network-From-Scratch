{
 "cells": [
  {
   "cell_type": "code",
   "execution_count": 1,
   "metadata": {},
   "outputs": [],
   "source": [
    "import pickle\n",
    "import torchvision.datasets as ds\n",
    "from torchvision import transforms\n"
   ]
  },
  {
   "cell_type": "code",
   "execution_count": null,
   "metadata": {},
   "outputs": [],
   "source": [
    "from train_1805082 import Layer\n",
    "from train_1805082 import DenseLayer\n",
    "from train_1805082 import ActivationLayer\n",
    "from train_1805082 import SoftmaxLayer\n",
    "from train_1805082 import ReLUActivationLayer\n",
    "from train_1805082 import DropoutLayer\n",
    "from train_1805082 import AdamOptimizer\n",
    "from train_1805082 import NetworkModel\n",
    "from train_1805082 import cross_entropy_loss\n",
    "from train_1805082 import cross_entropy_loss_prime"
   ]
  },
  {
   "cell_type": "code",
   "execution_count": 3,
   "metadata": {},
   "outputs": [],
   "source": [
    "independent_test_dataset = ds.EMNIST(root='./data', split='letters',\n",
    "                             train=False,\n",
    "                             transform=transforms.ToTensor())"
   ]
  },
  {
   "cell_type": "code",
   "execution_count": 4,
   "metadata": {},
   "outputs": [
    {
     "ename": "AttributeError",
     "evalue": "'list' object has no attribute 'predict'",
     "output_type": "error",
     "traceback": [
      "\u001b[1;31m---------------------------------------------------------------------------\u001b[0m",
      "\u001b[1;31mAttributeError\u001b[0m                            Traceback (most recent call last)",
      "Cell \u001b[1;32mIn[4], line 7\u001b[0m\n\u001b[0;32m      2\u001b[0m     loaded_model \u001b[38;5;241m=\u001b[39m pickle\u001b[38;5;241m.\u001b[39mload(model_file)\n\u001b[0;32m      5\u001b[0m query_image, true_label \u001b[38;5;241m=\u001b[39m independent_test_dataset[\u001b[38;5;241m0\u001b[39m]\n\u001b[1;32m----> 7\u001b[0m predicted_labels \u001b[38;5;241m=\u001b[39m \u001b[43mloaded_model\u001b[49m\u001b[38;5;241;43m.\u001b[39;49m\u001b[43mpredict\u001b[49m(query_image)\n\u001b[0;32m      9\u001b[0m \u001b[38;5;28mprint\u001b[39m(predicted_labels)\n\u001b[0;32m     10\u001b[0m \u001b[38;5;28mprint\u001b[39m(true_label)\n",
      "\u001b[1;31mAttributeError\u001b[0m: 'list' object has no attribute 'predict'"
     ]
    }
   ],
   "source": [
    "# Load the weights and biases using pickle\n",
    "with open('model_1805082.pickle', 'rb') as model_file:\n",
    "    data = pickle.load(model_file)\n",
    "\n",
    "weights_layer_1, biases_layer_1 = data['weights_layer_1'], data['biases_layer_1']\n",
    "\n",
    "weights_layer_2, biases_layer_2 = data['weights_layer_2'], data['biases_layer_2']\n",
    "\n",
    "# create a new model with the loaded weights and biases\n",
    "\n",
    "model = NetworkModel(\n",
    "    layers=[\n",
    "        DenseLayer('Dense1', 28 * 28, 1024),\n",
    "        ReLUActivationLayer('ReLU1'),\n",
    "        DropoutLayer('Dropout1', 0.3),\n",
    "        DenseLayer('Dense2', 1024, 26),\n",
    "        SoftmaxLayer('Softmax')\n",
    "    ],\n",
    "    loss_func=cross_entropy_loss,\n",
    "    loss_func_prime=cross_entropy_loss_prime,\n",
    "    optimizer=AdamOptimizer(learning_rate= 5e-4)\n",
    ")\n",
    "\n",
    "model.layers[0].weights = weights_layer_1\n",
    "model.layers[0].bias = biases_layer_1\n",
    "\n",
    "model.layers[3].weights = weights_layer_2\n",
    "model.layers[3].bias = biases_layer_2\n",
    "\n",
    "model.evaluate(X_test.T, Y_test.T)"
   ]
  },
  {
   "cell_type": "code",
   "execution_count": null,
   "metadata": {},
   "outputs": [],
   "source": []
  }
 ],
 "metadata": {
  "kernelspec": {
   "display_name": "research",
   "language": "python",
   "name": "python3"
  },
  "language_info": {
   "codemirror_mode": {
    "name": "ipython",
    "version": 3
   },
   "file_extension": ".py",
   "mimetype": "text/x-python",
   "name": "python",
   "nbconvert_exporter": "python",
   "pygments_lexer": "ipython3",
   "version": "3.10.13"
  }
 },
 "nbformat": 4,
 "nbformat_minor": 2
}
